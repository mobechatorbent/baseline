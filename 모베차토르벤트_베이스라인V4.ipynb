{
 "cells": [
  {
   "cell_type": "markdown",
   "metadata": {
    "id": "v7XIT9gryypd"
   },
   "source": [
    "# 0. 필요 라이브러리 설치"
   ]
  },
  {
   "cell_type": "code",
   "execution_count": 1,
   "metadata": {
    "colab": {
     "base_uri": "https://localhost:8080/"
    },
    "executionInfo": {
     "elapsed": 7234,
     "status": "ok",
     "timestamp": 1646651502969,
     "user": {
      "displayName": "박수철",
      "photoUrl": "https://lh3.googleusercontent.com/a/default-user=s64",
      "userId": "12835749286679343441"
     },
     "user_tz": -540
    },
    "id": "vnBgAH_Qtbq0",
    "outputId": "9efddccd-935e-4d30-8abc-b82a36acf5a6"
   },
   "outputs": [
    {
     "name": "stdout",
     "output_type": "stream",
     "text": [
      "Requirement already satisfied: torch in /opt/conda/lib/python3.7/site-packages (1.10.2)\n",
      "Requirement already satisfied: matplotlib in /opt/conda/lib/python3.7/site-packages (3.5.1)\n",
      "Requirement already satisfied: tqdm in /opt/conda/lib/python3.7/site-packages (4.62.3)\n",
      "Requirement already satisfied: livelossplot in /opt/conda/lib/python3.7/site-packages (0.5.4)\n",
      "Requirement already satisfied: gdown in /opt/conda/lib/python3.7/site-packages (4.4.0)\n",
      "Requirement already satisfied: pypianoroll>=1.0.2 in /opt/conda/lib/python3.7/site-packages (1.0.4)\n",
      "Requirement already satisfied: typing-extensions in /opt/conda/lib/python3.7/site-packages (from torch) (4.1.1)\n",
      "Requirement already satisfied: python-dateutil>=2.7 in /opt/conda/lib/python3.7/site-packages (from matplotlib) (2.8.2)\n",
      "Requirement already satisfied: numpy>=1.17 in /opt/conda/lib/python3.7/site-packages (from matplotlib) (1.19.5)\n",
      "Requirement already satisfied: pillow>=6.2.0 in /opt/conda/lib/python3.7/site-packages (from matplotlib) (9.0.1)\n",
      "Requirement already satisfied: pyparsing>=2.2.1 in /opt/conda/lib/python3.7/site-packages (from matplotlib) (3.0.7)\n",
      "Requirement already satisfied: packaging>=20.0 in /opt/conda/lib/python3.7/site-packages (from matplotlib) (21.3)\n",
      "Requirement already satisfied: fonttools>=4.22.0 in /opt/conda/lib/python3.7/site-packages (from matplotlib) (4.29.1)\n",
      "Requirement already satisfied: cycler>=0.10 in /opt/conda/lib/python3.7/site-packages (from matplotlib) (0.11.0)\n",
      "Requirement already satisfied: kiwisolver>=1.0.1 in /opt/conda/lib/python3.7/site-packages (from matplotlib) (1.3.2)\n",
      "Requirement already satisfied: ipython in /opt/conda/lib/python3.7/site-packages (from livelossplot) (7.32.0)\n",
      "Requirement already satisfied: bokeh in /opt/conda/lib/python3.7/site-packages (from livelossplot) (2.4.2)\n",
      "Requirement already satisfied: six in /opt/conda/lib/python3.7/site-packages (from gdown) (1.16.0)\n",
      "Requirement already satisfied: requests[socks] in /opt/conda/lib/python3.7/site-packages (from gdown) (2.27.1)\n",
      "Requirement already satisfied: beautifulsoup4 in /opt/conda/lib/python3.7/site-packages (from gdown) (4.10.0)\n",
      "Requirement already satisfied: filelock in /opt/conda/lib/python3.7/site-packages (from gdown) (3.6.0)\n",
      "Requirement already satisfied: scipy>=1.0.0 in /opt/conda/lib/python3.7/site-packages (from pypianoroll>=1.0.2) (1.7.3)\n",
      "Requirement already satisfied: pretty-midi>=0.2.8 in /opt/conda/lib/python3.7/site-packages (from pypianoroll>=1.0.2) (0.2.9)\n",
      "Requirement already satisfied: mido>=1.1.16 in /opt/conda/lib/python3.7/site-packages (from pretty-midi>=0.2.8->pypianoroll>=1.0.2) (1.2.10)\n",
      "Requirement already satisfied: soupsieve>1.2 in /opt/conda/lib/python3.7/site-packages (from beautifulsoup4->gdown) (2.3.1)\n",
      "Requirement already satisfied: tornado>=5.1 in /opt/conda/lib/python3.7/site-packages (from bokeh->livelossplot) (6.1)\n",
      "Requirement already satisfied: PyYAML>=3.10 in /opt/conda/lib/python3.7/site-packages (from bokeh->livelossplot) (6.0)\n",
      "Requirement already satisfied: Jinja2>=2.9 in /opt/conda/lib/python3.7/site-packages (from bokeh->livelossplot) (3.0.3)\n",
      "Requirement already satisfied: setuptools>=18.5 in /opt/conda/lib/python3.7/site-packages (from ipython->livelossplot) (59.8.0)\n",
      "Requirement already satisfied: pexpect>4.3 in /opt/conda/lib/python3.7/site-packages (from ipython->livelossplot) (4.8.0)\n",
      "Requirement already satisfied: jedi>=0.16 in /opt/conda/lib/python3.7/site-packages (from ipython->livelossplot) (0.18.1)\n",
      "Requirement already satisfied: backcall in /opt/conda/lib/python3.7/site-packages (from ipython->livelossplot) (0.2.0)\n",
      "Requirement already satisfied: matplotlib-inline in /opt/conda/lib/python3.7/site-packages (from ipython->livelossplot) (0.1.3)\n",
      "Requirement already satisfied: decorator in /opt/conda/lib/python3.7/site-packages (from ipython->livelossplot) (5.1.1)\n",
      "Requirement already satisfied: traitlets>=4.2 in /opt/conda/lib/python3.7/site-packages (from ipython->livelossplot) (5.1.1)\n",
      "Requirement already satisfied: pickleshare in /opt/conda/lib/python3.7/site-packages (from ipython->livelossplot) (0.7.5)\n",
      "Requirement already satisfied: prompt-toolkit!=3.0.0,!=3.0.1,<3.1.0,>=2.0.0 in /opt/conda/lib/python3.7/site-packages (from ipython->livelossplot) (3.0.27)\n",
      "Requirement already satisfied: pygments in /opt/conda/lib/python3.7/site-packages (from ipython->livelossplot) (2.11.2)\n",
      "Requirement already satisfied: certifi>=2017.4.17 in /opt/conda/lib/python3.7/site-packages (from requests[socks]->gdown) (2021.10.8)\n",
      "Requirement already satisfied: urllib3<1.27,>=1.21.1 in /opt/conda/lib/python3.7/site-packages (from requests[socks]->gdown) (1.26.8)\n",
      "Requirement already satisfied: idna<4,>=2.5 in /opt/conda/lib/python3.7/site-packages (from requests[socks]->gdown) (3.3)\n",
      "Requirement already satisfied: charset-normalizer~=2.0.0 in /opt/conda/lib/python3.7/site-packages (from requests[socks]->gdown) (2.0.12)\n",
      "Requirement already satisfied: PySocks!=1.5.7,>=1.5.6 in /opt/conda/lib/python3.7/site-packages (from requests[socks]->gdown) (1.7.1)\n",
      "Requirement already satisfied: parso<0.9.0,>=0.8.0 in /opt/conda/lib/python3.7/site-packages (from jedi>=0.16->ipython->livelossplot) (0.8.3)\n",
      "Requirement already satisfied: MarkupSafe>=2.0 in /opt/conda/lib/python3.7/site-packages (from Jinja2>=2.9->bokeh->livelossplot) (2.1.0)\n",
      "Requirement already satisfied: ptyprocess>=0.5 in /opt/conda/lib/python3.7/site-packages (from pexpect>4.3->ipython->livelossplot) (0.7.0)\n",
      "Requirement already satisfied: wcwidth in /opt/conda/lib/python3.7/site-packages (from prompt-toolkit!=3.0.0,!=3.0.1,<3.1.0,>=2.0.0->ipython->livelossplot) (0.2.5)\n",
      "\u001b[33mWARNING: Running pip as the 'root' user can result in broken permissions and conflicting behaviour with the system package manager. It is recommended to use a virtual environment instead: https://pip.pypa.io/warnings/venv\u001b[0m\u001b[33m\n",
      "\u001b[0m"
     ]
    }
   ],
   "source": [
    "!pip install torch matplotlib tqdm livelossplot gdown \"pypianoroll>=1.0.2\""
   ]
  },
  {
   "cell_type": "markdown",
   "metadata": {
    "id": "f53oVTD4y1Cl"
   },
   "source": [
    "# 라이브러리 호출"
   ]
  },
  {
   "cell_type": "code",
   "execution_count": 2,
   "metadata": {
    "id": "Se1bXH-9sLMB"
   },
   "outputs": [],
   "source": [
    "from IPython.display import clear_output\n",
    "import numpy as np\n",
    "import torch\n",
    "from pypianoroll import Multitrack, BinaryTrack\n",
    "from tqdm import tqdm\n",
    "from livelossplot import PlotLosses\n",
    "from livelossplot.outputs import MatplotlibPlot\n",
    "import matplotlib.pyplot as plt\n",
    "import os\n",
    "import pypianoroll\n",
    "from pathlib import Path\n",
    "import random\n",
    "#from google.colab import files\n",
    "\n",
    "os.makedirs('result', exist_ok=True)"
   ]
  },
  {
   "cell_type": "markdown",
   "metadata": {
    "id": "vPzv1mKmzFGt"
   },
   "source": [
    "# 기본파라미터 세팅"
   ]
  },
  {
   "cell_type": "code",
   "execution_count": 3,
   "metadata": {
    "id": "G-nPUy9ttNCd"
   },
   "outputs": [],
   "source": [
    "# Data\n",
    "n_tracks = 1  # 사용되는 트랙의 수\n",
    "n_pitches = 72  # number of pitches\n",
    "lowest_pitch = 24  # MIDI note number of the lowest pitch\n",
    "n_samples_per_song = 8  # number of samples to extract from each song in the datset\n",
    "n_measures = 4  # number of measures per sample\n",
    "beat_resolution = 4  # temporal resolution of a beat (in timestep)\n",
    "programs = [0]  # program number for each track\n",
    "is_drums = [False]  # drum indicator for each track\n",
    "track_names = ['Track 1']  # 트랙의 이름\n",
    "tempo = 100\n",
    "\n",
    "# Training\n",
    "batch_size = 64\n",
    "latent_dim = 1024\n",
    "n_steps = 100000 # 학습 반복 횟수\n",
    "\n",
    "# Sampling\n",
    "sample_interval = 5000  # 학습 반복 횟수가 이 변수의 숫자만큼 반복되었을 시 현재까지 학습된 모델의 학습 진척도를 계산하여 출력해줌\n",
    "n_samples = 4\n",
    "\n",
    "measure_resolution = 4 * beat_resolution\n",
    "tempo_array = np.full((4 * 4 * measure_resolution, 1), tempo)"
   ]
  },
  {
   "cell_type": "markdown",
   "metadata": {
    "id": "BgKU_aBJzIvn"
   },
   "source": [
    "# 학습에 사용하는 모델 및 함수 정의"
   ]
  },
  {
   "cell_type": "code",
   "execution_count": 4,
   "metadata": {
    "id": "NULawTweuTO-"
   },
   "outputs": [],
   "source": [
    "# 정규화에 대한 그래디언트 페널티를 계산하여 생성기에 제공하는 그래디언트의 크기를 안정화한다.\n",
    "def compute_gradient_penalty(discriminator, real_samples, fake_samples):\n",
    "    \"\"\"Compute the gradient penalty for regularization. Intuitively, the\n",
    "    gradient penalty help stablize the magnitude of the gradients that the\n",
    "    discriminator provides to the generator, and thus help stablize the training\n",
    "    of the generator.\"\"\"\n",
    "    # Get random interpolations between real and fake samples\n",
    "    alpha = torch.rand(real_samples.size(0), 1, 1, 1).cuda()\n",
    "    interpolates = (alpha * real_samples + ((1 - alpha) * fake_samples))\n",
    "    interpolates = interpolates.requires_grad_(True)\n",
    "    # Get the discriminator output for the interpolations\n",
    "    d_interpolates = discriminator(interpolates)\n",
    "    # Get gradients w.r.t. the interpolations\n",
    "    fake = torch.ones(real_samples.size(0), 1).cuda()\n",
    "    gradients = torch.autograd.grad(\n",
    "        outputs=d_interpolates,\n",
    "        inputs=interpolates,\n",
    "        grad_outputs=fake,\n",
    "        create_graph=True,\n",
    "        retain_graph=True,\n",
    "        only_inputs=True\n",
    "    )[0]\n",
    "    # Compute gradient penalty\n",
    "    gradients = gradients.view(gradients.size(0), -1)\n",
    "    gradient_penalty = ((gradients.norm(2, dim=1) - 1) ** 2).mean()\n",
    "    return gradient_penalty\n",
    "\n",
    "'''\n",
    "(5)\n",
    "Reference : https://github.com/rosinality/stylegan2-pytorch/blob/master/train.py\n",
    "def d_r1_loss(real_pred, real_img):\n",
    "    with conv2d_gradfix.no_weight_gradients():\n",
    "        grad_real, = autograd.grad(\n",
    "            outputs=real_pred.sum(), inputs=real_img, create_graph=True\n",
    "        )\n",
    "    grad_penalty = grad_real.pow(2).reshape(grad_real.shape[0], -1).sum(1).mean()\n",
    "\n",
    "    return grad_penalty\n",
    "'''\n",
    "\n",
    "# 그라디언트 및 손실 계산\n",
    "def train_one_step(discriminator, generator, d_optimizer, g_optimizer, real_samples):\n",
    "    \"\"\"Train the networks for one step.\"\"\"\n",
    "    # Sample from the lantent distribution\n",
    "    latent = torch.randn(batch_size, latent_dim)\n",
    "\n",
    "    # Transfer data to GPU\n",
    "    if torch.cuda.is_available():\n",
    "        real_samples = real_samples.cuda()\n",
    "        latent = latent.cuda()\n",
    "    \n",
    "    # === Train the discriminator ===\n",
    "    # Reset cached gradients to zero\n",
    "    d_optimizer.zero_grad()\n",
    "    # Get discriminator outputs for the real samples\n",
    "    prediction_real = discriminator(real_samples)\n",
    "    # Compute the loss function\n",
    "    # d_loss_real = torch.mean(torch.nn.functional.relu(1. - prediction_real))\n",
    "    d_loss_real = -torch.mean(prediction_real)\n",
    "    # Backpropagate the gradients\n",
    "    d_loss_real.backward()\n",
    "    \n",
    "    # Generate fake samples with the generator\n",
    "    fake_samples = generator(latent)\n",
    "    # Get discriminator outputs for the fake samples\n",
    "    prediction_fake_d = discriminator(fake_samples.detach())\n",
    "    # Compute the loss function\n",
    "    # d_loss_fake = torch.mean(torch.nn.functional.relu(1. + prediction_fake_d))\n",
    "    d_loss_fake = torch.mean(prediction_fake_d)\n",
    "    # Backpropagate the gradients\n",
    "    d_loss_fake.backward()\n",
    "\n",
    "    # Compute gradient penalty\n",
    "    '''\n",
    "    Regularization loss\n",
    "    10.0 coefficient\n",
    "    0.01, 0.1, 1, 5, 10\n",
    "    '''\n",
    "    gradient_penalty = 10.0 * compute_gradient_penalty(discriminator, real_samples.data, fake_samples.data)\n",
    "    # Backpropagate the gradients\n",
    "    gradient_penalty.backward()\n",
    "\n",
    "    # Update the weights\n",
    "    d_optimizer.step()\n",
    "    \n",
    "    # === Train the generator ===\n",
    "    # Reset cached gradients to zero\n",
    "    g_optimizer.zero_grad()\n",
    "    # Get discriminator outputs for the fake samples\n",
    "    prediction_fake_g = discriminator(fake_samples)\n",
    "    # Compute the loss function\n",
    "    g_loss = -torch.mean(prediction_fake_g)\n",
    "    # Backpropagate the gradients\n",
    "    g_loss.backward()\n",
    "    # Update the weights\n",
    "    g_optimizer.step()\n",
    "\n",
    "    return d_loss_real + d_loss_fake, g_loss\n",
    "\n",
    "# 생성자 블록\n",
    "class GeneraterBlock(torch.nn.Module):\n",
    "    def __init__(self, in_dim, out_dim, kernel, stride):\n",
    "        super().__init__()\n",
    "        self.transconv = torch.nn.ConvTranspose2d(in_dim, out_dim, kernel, stride)\n",
    "        self.transconv.weight.data.normal_(0, 0.02)#(1)\n",
    "        '''\n",
    "        (1)\n",
    "        self.transconv.weight.data.normal_(0, 0.02)\n",
    "        '''\n",
    "        self.batchnorm = torch.nn.BatchNorm2d(out_dim)\n",
    "    \n",
    "    def forward(self, x):\n",
    "        x = self.transconv(x)\n",
    "        x = self.batchnorm(x)\n",
    "        #return torch.nn.functional.relu(x)\n",
    "        return torch.nn.functional.gelu(x)\n",
    "        '''\n",
    "        (2)\n",
    "        return torch.nn.functional.gelu(x)\n",
    "        '''\n",
    "\n",
    "# 생성자\n",
    "class Generator(torch.nn.Module):\n",
    "    \"\"\"A convolutional neural network (CNN) based generator. The generator takes\n",
    "    as input a latent vector and outputs a fake sample.\"\"\"\n",
    "    def __init__(self):\n",
    "        super().__init__()\n",
    "        '''\n",
    "        (3)\n",
    "        1. kernel size, stride를 원래 MuseGAN의 예처럼 한쪽 axis씩 늘려보기\n",
    "        2. 2씩 늘려보기\n",
    "        '''\n",
    "        self.transconv0 = GeneraterBlock(latent_dim, 256, (8, 1), (8, 1))\n",
    "        self.transconv1 = GeneraterBlock(256, 64, (4, 2), (4, 2))\n",
    "        self.transconv2 = GeneraterBlock(64, 32, (2, 3), (2, 3))\n",
    "        self.transconv3 = GeneraterBlock(32, 32, (1, 3), (1, 3))\n",
    "        self.transconv4 = GeneraterBlock(32, 1, (1, 4), (1, 4))\n",
    "\n",
    "    def forward(self, x):\n",
    "        x = x.view(-1, latent_dim, 1, 1)\n",
    "        x = self.transconv0(x)\n",
    "        x = self.transconv1(x)\n",
    "        x = self.transconv2(x)\n",
    "        x = self.transconv3(x)\n",
    "        x = self.transconv4(x)\n",
    "        x = x.view(-1, n_tracks, n_measures * measure_resolution, n_pitches)\n",
    "        return x\n",
    "\n",
    "# 정규화 레이어\n",
    "class LayerNorm(torch.nn.Module):\n",
    "    \"\"\"An implementation of Layer normalization that does not require size\n",
    "    information. Copied from https://github.com/pytorch/pytorch/issues/1959.\"\"\"\n",
    "    def __init__(self, n_features, eps=1e-5, affine=True):\n",
    "        super().__init__()\n",
    "        self.n_features = n_features\n",
    "        self.affine = affine\n",
    "        self.eps = eps\n",
    "        if self.affine:\n",
    "            self.gamma = torch.nn.Parameter(torch.Tensor(n_features).uniform_())\n",
    "            self.beta = torch.nn.Parameter(torch.zeros(n_features))\n",
    "\n",
    "    def forward(self, x):\n",
    "        shape = [-1] + [1] * (x.dim() - 1)\n",
    "        mean = x.view(x.size(0), -1).mean(1).view(*shape)\n",
    "        std = x.view(x.size(0), -1).std(1).view(*shape)\n",
    "        y = (x - mean) / (std + self.eps)\n",
    "        if self.affine:\n",
    "            shape = [1, -1] + [1] * (x.dim() - 2)\n",
    "            y = self.gamma.view(*shape) * y + self.beta.view(*shape)\n",
    "        return y\n",
    "\n",
    "# 판별자 블록\n",
    "class DiscriminatorBlock(torch.nn.Module):\n",
    "    def __init__(self, in_dim, out_dim, kernel, stride):\n",
    "        super().__init__()\n",
    "        self.transconv = torch.nn.Conv2d(in_dim, out_dim, kernel, stride)\n",
    "        self.layernorm = LayerNorm(out_dim)\n",
    "    \n",
    "    def forward(self, x):\n",
    "        x = self.transconv(x)\n",
    "        x = self.layernorm(x)\n",
    "        return torch.nn.functional.leaky_relu(x)\n",
    "        #return torch.nn.functional.gelu(x)#gelu로 변경\n",
    "\n",
    "# 판별자\n",
    "class Discriminator(torch.nn.Module):\n",
    "    \"\"\"A convolutional neural network (CNN) based discriminator. The\n",
    "    discriminator takes as input either a real sample (in the training data) or\n",
    "    a fake sample (generated by the generator) and outputs a scalar indicating\n",
    "    its authentity.\n",
    "    \"\"\"\n",
    "    def __init__(self):\n",
    "        super().__init__()\n",
    "        '''\n",
    "        (4)\n",
    "        1. Generator의 역에 가깝게 수정\n",
    "        2. 마지막 dense layer의 input값이 너무 크지 않게 수정\n",
    "        3. Linear layer를 제거 (Conv. layer를 통해서 1x1 사이즈까지 몰고 오도록...)\n",
    "        '''\n",
    "        self.conv0 = DiscriminatorBlock(1, 32, (1, 4), (1, 4))\n",
    "        self.conv1 = DiscriminatorBlock(32, 64, (1, 3), (1, 3))\n",
    "        self.conv2 = DiscriminatorBlock(64, 128, (2, 3), (2, 3))\n",
    "        self.conv3 = DiscriminatorBlock(128, 256, (4, 2), (4, 2))\n",
    "        self.conv4 = DiscriminatorBlock(256, 512, (8, 1), (8, 1))\n",
    "        self.dense = torch.nn.Conv2d(512, 1, 1, 1)\n",
    "\n",
    "    def forward(self, x):\n",
    "        # (batch, channel=1, height=64, width=72)\n",
    "\n",
    "        # (batch, 32, 64, 18)\n",
    "        x = self.conv0(x)\n",
    "        # (batch, 64, 64, 6)\n",
    "        x = self.conv1(x)\n",
    "        # (batch, 256, 32, 2)\n",
    "        x = self.conv2(x)\n",
    "        # (batch, 1024, 8, 1)\n",
    "        x = self.conv3(x)\n",
    "        # (batch, 1024, 1, 1)\n",
    "        x = self.conv4(x)\n",
    "        # (batch, 1, 1, 1)\n",
    "        x = self.dense(x)\n",
    "        # (batch, 1)\n",
    "        x = x.view(x.size(0), 1)\n",
    "        return x"
   ]
  },
  {
   "cell_type": "markdown",
   "metadata": {
    "id": "19FJhzChzbOr"
   },
   "source": [
    "# 데이터 전처리 함수(경우에 따라 생략 가능)"
   ]
  },
  {
   "cell_type": "code",
   "execution_count": 5,
   "metadata": {
    "id": "5VcDFL5iuWlH"
   },
   "outputs": [],
   "source": [
    "# # 현재 프로젝트 폴더의 하위 폴더(Ex: midis)에 학습할 midi파일을 삽입하면 자동으로 해당 폴더의 목록을 읽어서 dataloader가 읽을 수 있는 형태의 파일로 변환\n",
    "# def preprocess(path_str, filename):\n",
    "#   data = []\n",
    "#   path = Path(path_str).glob('**/*')\n",
    "#   # Load the multitrack as a pypianoroll.Multitrack instance\n",
    "#   for name in path:\n",
    "#       # multitrack = pypianoroll.load('lpd.npz')\n",
    "#       try:\n",
    "#           multitrack = pypianoroll.read(name)\n",
    "#       except:\n",
    "#           continue\n",
    "#       # Binarize the pianorolls\n",
    "#       multitrack.binarize()\n",
    "#       # Downsample the pianorolls (shape: n_timesteps x n_pitches)\n",
    "#       multitrack.set_resolution(beat_resolution)\n",
    "#       # Stack the pianoroll (shape: n_tracks x n_timesteps x n_pitches)\n",
    "#       pianoroll = (multitrack.stack() > 0)\n",
    "#       # Get the target pitch range only\n",
    "#       pianoroll = pianoroll[:, :, lowest_pitch:lowest_pitch + n_pitches]\n",
    "#       # Calculate the total measures\n",
    "#       n_total_measures = multitrack.get_max_length() // measure_resolution\n",
    "#       candidate = n_total_measures - n_measures\n",
    "#       target_n_samples = min(n_total_measures // n_measures, n_samples_per_song)\n",
    "#       # Randomly select a number of phrases from the multitrack pianoroll\n",
    "#       for idx in np.random.choice(candidate, target_n_samples, False):\n",
    "#           start = idx * measure_resolution\n",
    "#           end = (idx + n_measures) * measure_resolution\n",
    "#           # Skip the samples where some track(s) has too few notes\n",
    "#           if (pianoroll.sum(axis=(1, 2)) < 10).any():\n",
    "#               continue\n",
    "#           data.append(pianoroll[:, start:end])\n",
    "#   # Stack all the collected pianoroll segments into one big array\n",
    "#   random.shuffle(data)\n",
    "#   data = np.stack(data)\n",
    "#   print(f\"Data shape : {data.shape}\")\n",
    "#   np.savez_compressed(f'{filename}.npz', data=data)\n",
    "\n",
    "# preprocess('midis', 'midis') # 첫번째 인자는 midi파일이 있는 폴더명, 두번째 인자는 결과물로 출력될 npz파일의 이름"
   ]
  },
  {
   "cell_type": "markdown",
   "metadata": {
    "id": "6izKxvQexHas"
   },
   "source": [
    "데이터 전처리 작업을 위해 데이터셋 전체를 코랩에 업로드하는 것은 번거로우므로\n",
    "위 작업은 로컬PC에서 수행하고 결과물만 코랩에 업로드하는 것이 좋음\n",
    "\n",
    "파일업로드는 아래 코드 사용"
   ]
  },
  {
   "cell_type": "code",
   "execution_count": 6,
   "metadata": {
    "colab": {
     "base_uri": "https://localhost:8080/",
     "height": 91,
     "resources": {
      "http://localhost:8080/nbextensions/google.colab/files.js": {
       "data": "Ly8gQ29weXJpZ2h0IDIwMTcgR29vZ2xlIExMQwovLwovLyBMaWNlbnNlZCB1bmRlciB0aGUgQXBhY2hlIExpY2Vuc2UsIFZlcnNpb24gMi4wICh0aGUgIkxpY2Vuc2UiKTsKLy8geW91IG1heSBub3QgdXNlIHRoaXMgZmlsZSBleGNlcHQgaW4gY29tcGxpYW5jZSB3aXRoIHRoZSBMaWNlbnNlLgovLyBZb3UgbWF5IG9idGFpbiBhIGNvcHkgb2YgdGhlIExpY2Vuc2UgYXQKLy8KLy8gICAgICBodHRwOi8vd3d3LmFwYWNoZS5vcmcvbGljZW5zZXMvTElDRU5TRS0yLjAKLy8KLy8gVW5sZXNzIHJlcXVpcmVkIGJ5IGFwcGxpY2FibGUgbGF3IG9yIGFncmVlZCB0byBpbiB3cml0aW5nLCBzb2Z0d2FyZQovLyBkaXN0cmlidXRlZCB1bmRlciB0aGUgTGljZW5zZSBpcyBkaXN0cmlidXRlZCBvbiBhbiAiQVMgSVMiIEJBU0lTLAovLyBXSVRIT1VUIFdBUlJBTlRJRVMgT1IgQ09ORElUSU9OUyBPRiBBTlkgS0lORCwgZWl0aGVyIGV4cHJlc3Mgb3IgaW1wbGllZC4KLy8gU2VlIHRoZSBMaWNlbnNlIGZvciB0aGUgc3BlY2lmaWMgbGFuZ3VhZ2UgZ292ZXJuaW5nIHBlcm1pc3Npb25zIGFuZAovLyBsaW1pdGF0aW9ucyB1bmRlciB0aGUgTGljZW5zZS4KCi8qKgogKiBAZmlsZW92ZXJ2aWV3IEhlbHBlcnMgZm9yIGdvb2dsZS5jb2xhYiBQeXRob24gbW9kdWxlLgogKi8KKGZ1bmN0aW9uKHNjb3BlKSB7CmZ1bmN0aW9uIHNwYW4odGV4dCwgc3R5bGVBdHRyaWJ1dGVzID0ge30pIHsKICBjb25zdCBlbGVtZW50ID0gZG9jdW1lbnQuY3JlYXRlRWxlbWVudCgnc3BhbicpOwogIGVsZW1lbnQudGV4dENvbnRlbnQgPSB0ZXh0OwogIGZvciAoY29uc3Qga2V5IG9mIE9iamVjdC5rZXlzKHN0eWxlQXR0cmlidXRlcykpIHsKICAgIGVsZW1lbnQuc3R5bGVba2V5XSA9IHN0eWxlQXR0cmlidXRlc1trZXldOwogIH0KICByZXR1cm4gZWxlbWVudDsKfQoKLy8gTWF4IG51bWJlciBvZiBieXRlcyB3aGljaCB3aWxsIGJlIHVwbG9hZGVkIGF0IGEgdGltZS4KY29uc3QgTUFYX1BBWUxPQURfU0laRSA9IDEwMCAqIDEwMjQ7CgpmdW5jdGlvbiBfdXBsb2FkRmlsZXMoaW5wdXRJZCwgb3V0cHV0SWQpIHsKICBjb25zdCBzdGVwcyA9IHVwbG9hZEZpbGVzU3RlcChpbnB1dElkLCBvdXRwdXRJZCk7CiAgY29uc3Qgb3V0cHV0RWxlbWVudCA9IGRvY3VtZW50LmdldEVsZW1lbnRCeUlkKG91dHB1dElkKTsKICAvLyBDYWNoZSBzdGVwcyBvbiB0aGUgb3V0cHV0RWxlbWVudCB0byBtYWtlIGl0IGF2YWlsYWJsZSBmb3IgdGhlIG5leHQgY2FsbAogIC8vIHRvIHVwbG9hZEZpbGVzQ29udGludWUgZnJvbSBQeXRob24uCiAgb3V0cHV0RWxlbWVudC5zdGVwcyA9IHN0ZXBzOwoKICByZXR1cm4gX3VwbG9hZEZpbGVzQ29udGludWUob3V0cHV0SWQpOwp9CgovLyBUaGlzIGlzIHJvdWdobHkgYW4gYXN5bmMgZ2VuZXJhdG9yIChub3Qgc3VwcG9ydGVkIGluIHRoZSBicm93c2VyIHlldCksCi8vIHdoZXJlIHRoZXJlIGFyZSBtdWx0aXBsZSBhc3luY2hyb25vdXMgc3RlcHMgYW5kIHRoZSBQeXRob24gc2lkZSBpcyBnb2luZwovLyB0byBwb2xsIGZvciBjb21wbGV0aW9uIG9mIGVhY2ggc3RlcC4KLy8gVGhpcyB1c2VzIGEgUHJvbWlzZSB0byBibG9jayB0aGUgcHl0aG9uIHNpZGUgb24gY29tcGxldGlvbiBvZiBlYWNoIHN0ZXAsCi8vIHRoZW4gcGFzc2VzIHRoZSByZXN1bHQgb2YgdGhlIHByZXZpb3VzIHN0ZXAgYXMgdGhlIGlucHV0IHRvIHRoZSBuZXh0IHN0ZXAuCmZ1bmN0aW9uIF91cGxvYWRGaWxlc0NvbnRpbnVlKG91dHB1dElkKSB7CiAgY29uc3Qgb3V0cHV0RWxlbWVudCA9IGRvY3VtZW50LmdldEVsZW1lbnRCeUlkKG91dHB1dElkKTsKICBjb25zdCBzdGVwcyA9IG91dHB1dEVsZW1lbnQuc3RlcHM7CgogIGNvbnN0IG5leHQgPSBzdGVwcy5uZXh0KG91dHB1dEVsZW1lbnQubGFzdFByb21pc2VWYWx1ZSk7CiAgcmV0dXJuIFByb21pc2UucmVzb2x2ZShuZXh0LnZhbHVlLnByb21pc2UpLnRoZW4oKHZhbHVlKSA9PiB7CiAgICAvLyBDYWNoZSB0aGUgbGFzdCBwcm9taXNlIHZhbHVlIHRvIG1ha2UgaXQgYXZhaWxhYmxlIHRvIHRoZSBuZXh0CiAgICAvLyBzdGVwIG9mIHRoZSBnZW5lcmF0b3IuCiAgICBvdXRwdXRFbGVtZW50Lmxhc3RQcm9taXNlVmFsdWUgPSB2YWx1ZTsKICAgIHJldHVybiBuZXh0LnZhbHVlLnJlc3BvbnNlOwogIH0pOwp9CgovKioKICogR2VuZXJhdG9yIGZ1bmN0aW9uIHdoaWNoIGlzIGNhbGxlZCBiZXR3ZWVuIGVhY2ggYXN5bmMgc3RlcCBvZiB0aGUgdXBsb2FkCiAqIHByb2Nlc3MuCiAqIEBwYXJhbSB7c3RyaW5nfSBpbnB1dElkIEVsZW1lbnQgSUQgb2YgdGhlIGlucHV0IGZpbGUgcGlja2VyIGVsZW1lbnQuCiAqIEBwYXJhbSB7c3RyaW5nfSBvdXRwdXRJZCBFbGVtZW50IElEIG9mIHRoZSBvdXRwdXQgZGlzcGxheS4KICogQHJldHVybiB7IUl0ZXJhYmxlPCFPYmplY3Q+fSBJdGVyYWJsZSBvZiBuZXh0IHN0ZXBzLgogKi8KZnVuY3Rpb24qIHVwbG9hZEZpbGVzU3RlcChpbnB1dElkLCBvdXRwdXRJZCkgewogIGNvbnN0IGlucHV0RWxlbWVudCA9IGRvY3VtZW50LmdldEVsZW1lbnRCeUlkKGlucHV0SWQpOwogIGlucHV0RWxlbWVudC5kaXNhYmxlZCA9IGZhbHNlOwoKICBjb25zdCBvdXRwdXRFbGVtZW50ID0gZG9jdW1lbnQuZ2V0RWxlbWVudEJ5SWQob3V0cHV0SWQpOwogIG91dHB1dEVsZW1lbnQuaW5uZXJIVE1MID0gJyc7CgogIGNvbnN0IHBpY2tlZFByb21pc2UgPSBuZXcgUHJvbWlzZSgocmVzb2x2ZSkgPT4gewogICAgaW5wdXRFbGVtZW50LmFkZEV2ZW50TGlzdGVuZXIoJ2NoYW5nZScsIChlKSA9PiB7CiAgICAgIHJlc29sdmUoZS50YXJnZXQuZmlsZXMpOwogICAgfSk7CiAgfSk7CgogIGNvbnN0IGNhbmNlbCA9IGRvY3VtZW50LmNyZWF0ZUVsZW1lbnQoJ2J1dHRvbicpOwogIGlucHV0RWxlbWVudC5wYXJlbnRFbGVtZW50LmFwcGVuZENoaWxkKGNhbmNlbCk7CiAgY2FuY2VsLnRleHRDb250ZW50ID0gJ0NhbmNlbCB1cGxvYWQnOwogIGNvbnN0IGNhbmNlbFByb21pc2UgPSBuZXcgUHJvbWlzZSgocmVzb2x2ZSkgPT4gewogICAgY2FuY2VsLm9uY2xpY2sgPSAoKSA9PiB7CiAgICAgIHJlc29sdmUobnVsbCk7CiAgICB9OwogIH0pOwoKICAvLyBXYWl0IGZvciB0aGUgdXNlciB0byBwaWNrIHRoZSBmaWxlcy4KICBjb25zdCBmaWxlcyA9IHlpZWxkIHsKICAgIHByb21pc2U6IFByb21pc2UucmFjZShbcGlja2VkUHJvbWlzZSwgY2FuY2VsUHJvbWlzZV0pLAogICAgcmVzcG9uc2U6IHsKICAgICAgYWN0aW9uOiAnc3RhcnRpbmcnLAogICAgfQogIH07CgogIGNhbmNlbC5yZW1vdmUoKTsKCiAgLy8gRGlzYWJsZSB0aGUgaW5wdXQgZWxlbWVudCBzaW5jZSBmdXJ0aGVyIHBpY2tzIGFyZSBub3QgYWxsb3dlZC4KICBpbnB1dEVsZW1lbnQuZGlzYWJsZWQgPSB0cnVlOwoKICBpZiAoIWZpbGVzKSB7CiAgICByZXR1cm4gewogICAgICByZXNwb25zZTogewogICAgICAgIGFjdGlvbjogJ2NvbXBsZXRlJywKICAgICAgfQogICAgfTsKICB9CgogIGZvciAoY29uc3QgZmlsZSBvZiBmaWxlcykgewogICAgY29uc3QgbGkgPSBkb2N1bWVudC5jcmVhdGVFbGVtZW50KCdsaScpOwogICAgbGkuYXBwZW5kKHNwYW4oZmlsZS5uYW1lLCB7Zm9udFdlaWdodDogJ2JvbGQnfSkpOwogICAgbGkuYXBwZW5kKHNwYW4oCiAgICAgICAgYCgke2ZpbGUudHlwZSB8fCAnbi9hJ30pIC0gJHtmaWxlLnNpemV9IGJ5dGVzLCBgICsKICAgICAgICBgbGFzdCBtb2RpZmllZDogJHsKICAgICAgICAgICAgZmlsZS5sYXN0TW9kaWZpZWREYXRlID8gZmlsZS5sYXN0TW9kaWZpZWREYXRlLnRvTG9jYWxlRGF0ZVN0cmluZygpIDoKICAgICAgICAgICAgICAgICAgICAgICAgICAgICAgICAgICAgJ24vYSd9IC0gYCkpOwogICAgY29uc3QgcGVyY2VudCA9IHNwYW4oJzAlIGRvbmUnKTsKICAgIGxpLmFwcGVuZENoaWxkKHBlcmNlbnQpOwoKICAgIG91dHB1dEVsZW1lbnQuYXBwZW5kQ2hpbGQobGkpOwoKICAgIGNvbnN0IGZpbGVEYXRhUHJvbWlzZSA9IG5ldyBQcm9taXNlKChyZXNvbHZlKSA9PiB7CiAgICAgIGNvbnN0IHJlYWRlciA9IG5ldyBGaWxlUmVhZGVyKCk7CiAgICAgIHJlYWRlci5vbmxvYWQgPSAoZSkgPT4gewogICAgICAgIHJlc29sdmUoZS50YXJnZXQucmVzdWx0KTsKICAgICAgfTsKICAgICAgcmVhZGVyLnJlYWRBc0FycmF5QnVmZmVyKGZpbGUpOwogICAgfSk7CiAgICAvLyBXYWl0IGZvciB0aGUgZGF0YSB0byBiZSByZWFkeS4KICAgIGxldCBmaWxlRGF0YSA9IHlpZWxkIHsKICAgICAgcHJvbWlzZTogZmlsZURhdGFQcm9taXNlLAogICAgICByZXNwb25zZTogewogICAgICAgIGFjdGlvbjogJ2NvbnRpbnVlJywKICAgICAgfQogICAgfTsKCiAgICAvLyBVc2UgYSBjaHVua2VkIHNlbmRpbmcgdG8gYXZvaWQgbWVzc2FnZSBzaXplIGxpbWl0cy4gU2VlIGIvNjIxMTU2NjAuCiAgICBsZXQgcG9zaXRpb24gPSAwOwogICAgZG8gewogICAgICBjb25zdCBsZW5ndGggPSBNYXRoLm1pbihmaWxlRGF0YS5ieXRlTGVuZ3RoIC0gcG9zaXRpb24sIE1BWF9QQVlMT0FEX1NJWkUpOwogICAgICBjb25zdCBjaHVuayA9IG5ldyBVaW50OEFycmF5KGZpbGVEYXRhLCBwb3NpdGlvbiwgbGVuZ3RoKTsKICAgICAgcG9zaXRpb24gKz0gbGVuZ3RoOwoKICAgICAgY29uc3QgYmFzZTY0ID0gYnRvYShTdHJpbmcuZnJvbUNoYXJDb2RlLmFwcGx5KG51bGwsIGNodW5rKSk7CiAgICAgIHlpZWxkIHsKICAgICAgICByZXNwb25zZTogewogICAgICAgICAgYWN0aW9uOiAnYXBwZW5kJywKICAgICAgICAgIGZpbGU6IGZpbGUubmFtZSwKICAgICAgICAgIGRhdGE6IGJhc2U2NCwKICAgICAgICB9LAogICAgICB9OwoKICAgICAgbGV0IHBlcmNlbnREb25lID0gZmlsZURhdGEuYnl0ZUxlbmd0aCA9PT0gMCA/CiAgICAgICAgICAxMDAgOgogICAgICAgICAgTWF0aC5yb3VuZCgocG9zaXRpb24gLyBmaWxlRGF0YS5ieXRlTGVuZ3RoKSAqIDEwMCk7CiAgICAgIHBlcmNlbnQudGV4dENvbnRlbnQgPSBgJHtwZXJjZW50RG9uZX0lIGRvbmVgOwoKICAgIH0gd2hpbGUgKHBvc2l0aW9uIDwgZmlsZURhdGEuYnl0ZUxlbmd0aCk7CiAgfQoKICAvLyBBbGwgZG9uZS4KICB5aWVsZCB7CiAgICByZXNwb25zZTogewogICAgICBhY3Rpb246ICdjb21wbGV0ZScsCiAgICB9CiAgfTsKfQoKc2NvcGUuZ29vZ2xlID0gc2NvcGUuZ29vZ2xlIHx8IHt9OwpzY29wZS5nb29nbGUuY29sYWIgPSBzY29wZS5nb29nbGUuY29sYWIgfHwge307CnNjb3BlLmdvb2dsZS5jb2xhYi5fZmlsZXMgPSB7CiAgX3VwbG9hZEZpbGVzLAogIF91cGxvYWRGaWxlc0NvbnRpbnVlLAp9Owp9KShzZWxmKTsK",
       "headers": [
        [
         "content-type",
         "application/javascript"
        ]
       ],
       "ok": true,
       "status": 200,
       "status_text": ""
      }
     }
    },
    "executionInfo": {
     "elapsed": 17467,
     "status": "ok",
     "timestamp": 1646652893777,
     "user": {
      "displayName": "박수철",
      "photoUrl": "https://lh3.googleusercontent.com/a/default-user=s64",
      "userId": "12835749286679343441"
     },
     "user_tz": -540
    },
    "id": "t2j-pGMiwxvP",
    "outputId": "e1a6ce3a-7984-41b2-f748-031718db619c"
   },
   "outputs": [],
   "source": [
    "# uploaded = files.upload() # 파일 업로드 기능 실행\n",
    "\n",
    "# for fn in uploaded.keys(): # 업로드된 파일 정보 출력\n",
    "#     print('User uploaded file \"{name}\" with length {length} bytes'.format(name=fn, length=len(uploaded[fn])))"
   ]
  },
  {
   "cell_type": "markdown",
   "metadata": {
    "id": "CHbyuhuVzjAn"
   },
   "source": [
    "# 전처리된 데이터 로딩"
   ]
  },
  {
   "cell_type": "code",
   "execution_count": 28,
   "metadata": {
    "id": "9U17OcKUvRTx"
   },
   "outputs": [],
   "source": [
    "data = np.load('midis.npz')['data'] # 위 전처리 함수에서 생성된 npz파일을 사용\n",
    "data = torch.as_tensor(data, dtype=torch.float32)\n",
    "dataset = torch.utils.data.TensorDataset(data)\n",
    "data_loader = torch.utils.data.DataLoader(dataset, batch_size=batch_size, drop_last=True, shuffle=True) # 이 data_loader 객체가 추후 학습에 사용되는 데이터셋을 제어"
   ]
  },
  {
   "cell_type": "markdown",
   "metadata": {
    "id": "kwW-HDyAzsD1"
   },
   "source": [
    "# 모델 정의"
   ]
  },
  {
   "cell_type": "code",
   "execution_count": 29,
   "metadata": {
    "colab": {
     "base_uri": "https://localhost:8080/"
    },
    "executionInfo": {
     "elapsed": 355,
     "status": "ok",
     "timestamp": 1646652899794,
     "user": {
      "displayName": "박수철",
      "photoUrl": "https://lh3.googleusercontent.com/a/default-user=s64",
      "userId": "12835749286679343441"
     },
     "user_tz": -540
    },
    "id": "VeaRjEJWvwTg",
    "outputId": "94c2ca26-edb1-4382-b04a-fffc70e56006"
   },
   "outputs": [
    {
     "name": "stdout",
     "output_type": "stream",
     "text": [
      "Number of parameters in G: 2244867\n",
      "Number of parameters in D: 1369633\n"
     ]
    }
   ],
   "source": [
    "discriminator = Discriminator() # 판별자\n",
    "generator = Generator() # 생성자\n",
    "\n",
    "print(\"Number of parameters in G: {}\".format(sum(p.numel() for p in generator.parameters() if p.requires_grad)))\n",
    "print(\"Number of parameters in D: {}\".format(sum(p.numel() for p in discriminator.parameters() if p.requires_grad)))\n",
    "\n",
    "# Create optimizers\n",
    "d_optimizer = torch.optim.Adam(discriminator.parameters(), lr=0.001,  betas=(0.5, 0.9))\n",
    "g_optimizer = torch.optim.Adam(generator.parameters(), lr=0.001, betas=(0.5, 0.9))\n",
    "\n",
    "# Prepare the inputs for the sampler, which wil run during the training\n",
    "sample_latent = torch.randn(n_samples, latent_dim)\n",
    "\n",
    "# Transfer the neural nets and samples to GPU\n",
    "if torch.cuda.is_available():\n",
    "    discriminator = discriminator.cuda()\n",
    "    generator = generator.cuda()\n",
    "    sample_latent = sample_latent.cuda()\n",
    "\n",
    "# Create a LiveLoss logger instance for monitoring\n",
    "liveloss = PlotLosses(outputs=[MatplotlibPlot(cell_size=(6,2))])"
   ]
  },
  {
   "cell_type": "markdown",
   "metadata": {
    "id": "NOYsEQ7yzwrr"
   },
   "source": [
    "# 학습"
   ]
  },
  {
   "cell_type": "code",
   "execution_count": 30,
   "metadata": {
    "id": "LZsrzJ-lQpa_"
   },
   "outputs": [],
   "source": [
    "# liveloss.update({'d_loss': 2.0, 'g_loss': -3.0})\n",
    "# liveloss.send()"
   ]
  },
  {
   "cell_type": "code",
   "execution_count": null,
   "metadata": {
    "colab": {
     "base_uri": "https://localhost:8080/"
    },
    "id": "hW_BM7ifyFpU",
    "outputId": "4c6df048-d039-4dd0-bd9f-d8213df97e68"
   },
   "outputs": [
    {
     "name": "stderr",
     "output_type": "stream",
     "text": [
      "(d_loss=-11.799786, g_loss= 10.875032):   1%| | 1226/100000 [00:50<1:07:47, 24.2"
     ]
    }
   ],
   "source": [
    "step = 0\n",
    "# Create a progress bar instance for monitoring\n",
    "progress_bar = tqdm(total=n_steps, initial=step, ncols=80, mininterval=1)\n",
    "\n",
    "# Start iterations\n",
    "running_d_loss, running_g_loss = 0.0, 0.0\n",
    "while step < n_steps + 1:\n",
    "    # Iterate over the dataset\n",
    "    for real_samples in data_loader:\n",
    "        # Train the neural networks\n",
    "        generator.train()\n",
    "        d_loss, g_loss = train_one_step(discriminator, generator, d_optimizer, g_optimizer, real_samples[0])\n",
    "        d_loss = d_loss.data.cpu().numpy()\n",
    "        g_loss = g_loss.data.cpu().numpy()\n",
    "\n",
    "        # Record smoothened loss values to LiveLoss logger\n",
    "        running_d_loss = 0.05 * d_loss + 0.95 * running_d_loss\n",
    "        running_g_loss = 0.05 * g_loss + 0.95 * running_g_loss\n",
    "        # liveloss.update({'negative_critic_loss': -running_d_loss}) \n",
    "        liveloss.update({'d_loss': running_d_loss, 'g_loss': running_g_loss})\n",
    "\n",
    "        # Update losses to progress bar\n",
    "        progress_bar.set_description_str(\"(d_loss={: 8.6f}, g_loss={: 8.6f})\".format(d_loss, g_loss))\n",
    "        \n",
    "        if step % sample_interval == 0:\n",
    "            # Get generated samples\n",
    "            generator.eval()\n",
    "            # (batch, )\n",
    "            samples = generator(sample_latent).cpu().detach().numpy()\n",
    "\n",
    "            # Display loss curves\n",
    "            clear_output(True)\n",
    "            if step > 0:\n",
    "                 liveloss.send() # liveloss 라이브러리를 사용하여 loss 출력\n",
    "            \n",
    "            # Display generated samples\n",
    "            samples = samples.transpose(1, 0, 2, 3).reshape(n_tracks, -1, n_pitches)\n",
    "            tracks = []\n",
    "            for idx, (program, is_drum, track_name) in enumerate(zip(programs, is_drums, track_names)):\n",
    "                pianoroll = np.pad(samples[idx] > 0.5,((0, 0), (lowest_pitch, 128 - lowest_pitch - n_pitches)))\n",
    "                tracks.append(BinaryTrack(name=track_name,program=program,is_drum=is_drum,pianoroll=pianoroll))\n",
    "                \n",
    "            m = Multitrack(tracks=tracks,tempo=tempo_array,resolution=beat_resolution)\n",
    "            \n",
    "            m.write(f'result/{str(step).zfill(5)}.mid') # 중간 결과물을 result라는 폴더에 별도로 저장\n",
    "            \n",
    "        step += 1\n",
    "        progress_bar.update(1)\n",
    "        if step >= n_steps:\n",
    "            break"
   ]
  },
  {
   "cell_type": "code",
   "execution_count": 32,
   "metadata": {
    "id": "vydIKLk0S5mt"
   },
   "outputs": [],
   "source": [
    "# array = np.array([1, 2, 3, 4])\n",
    "# np.save('log.npy', array)\n",
    "# loaded_array = np.load('log.npy', allow_pickle=True)\n",
    "# print(array == loaded_array)\n",
    "# !ls"
   ]
  },
  {
   "cell_type": "markdown",
   "metadata": {
    "id": "EimxA0LHDpuZ"
   },
   "source": [
    "# 테스트\n",
    "- 학습 코드에서 중간 결과물 생성시에 사용했던 과정을 일부 재사용하여 결과물 생성"
   ]
  },
  {
   "cell_type": "code",
   "execution_count": 23,
   "metadata": {
    "id": "X4rcLOS5DdEx"
   },
   "outputs": [
    {
     "data": {
      "image/png": "[encoded data removed]",
      "text/plain": [
       "<Figure size 1152x576 with 1 Axes>"
      ]
     },
     "metadata": {
      "needs_background": "light"
     },
     "output_type": "display_data"
    }
   ],
   "source": [
    "generator.eval()\n",
    "\n",
    "sample_latent = torch.randn(n_samples, latent_dim)\n",
    "\n",
    "# Transfer the neural nets and samples to GPU\n",
    "if torch.cuda.is_available():\n",
    "    discriminator = discriminator.cuda()\n",
    "    generator = generator.cuda()\n",
    "    sample_latent = sample_latent.cuda()\n",
    "\n",
    "samples = generator(sample_latent).cpu().detach().numpy()\n",
    "\n",
    "# Display generated samples\n",
    "samples = samples.transpose(1, 0, 2, 3).reshape(n_tracks, -1, n_pitches)\n",
    "tracks = []\n",
    "for idx, (program, is_drum, track_name) in enumerate(zip(programs, is_drums, track_names)):\n",
    "    pianoroll = np.pad(samples[idx] > 0.5,((0, 0), (lowest_pitch, 128 - lowest_pitch - n_pitches)))\n",
    "    tracks.append(BinaryTrack(name=track_name,program=program,is_drum=is_drum,pianoroll=pianoroll))\n",
    "m = Multitrack(tracks=tracks,tempo=tempo_array,resolution=beat_resolution)\n",
    "\n",
    "axs = m.plot()\n",
    "plt.gcf().set_size_inches((16, 8))\n",
    "for ax in axs:\n",
    "    for x in range(measure_resolution,4 * measure_resolution * n_measures,measure_resolution):\n",
    "        if x % (measure_resolution * 4) == 0:\n",
    "            ax.axvline(x - 0.5, color='k')\n",
    "        else:\n",
    "            ax.axvline(x - 0.5, color='k', linestyle='-', linewidth=1)\n",
    "\n",
    "plt.show()\n",
    "m.write('result.mid') # 프로젝트 폴더에 result.mid 라는 파일이 결과물로 생성됨"
   ]
  },
  {
   "cell_type": "code",
   "execution_count": 24,
   "metadata": {
    "id": "pBo5yVWQD7OW"
   },
   "outputs": [],
   "source": [
    "# files.download('result.mid') # 코랩 사용시 결과물 확인을 위해서는 파일을 별도로 다운 받아야함"
   ]
  },
  {
   "cell_type": "markdown",
   "metadata": {
    "id": "Y9uy5kF6P2Tr"
   },
   "source": [
    "# 모델 저장\n",
    "학습 과정에서 생성된 generator 객체를 파일로 저장하여 추후 학습 없이 음악을 생성할 수 있도록 함"
   ]
  },
  {
   "cell_type": "code",
   "execution_count": 25,
   "metadata": {
    "id": "n6A_SL_tP0ZZ"
   },
   "outputs": [],
   "source": [
    "import pickle\n",
    "with open('epoch_10000.pkl', 'wb') as f:\n",
    "    pickle.dump(generator, f)"
   ]
  },
  {
   "cell_type": "code",
   "execution_count": 26,
   "metadata": {
    "id": "f0kZyQ71rb1j"
   },
   "outputs": [],
   "source": [
    "# files.download('epoch_10000.pkl')# 코랩 사용시 결과물 확인을 위해서는 파일을 별도로 다운 받아야함\n"
   ]
  },
  {
   "cell_type": "markdown",
   "metadata": {
    "id": "niZNim5DP-bY"
   },
   "source": [
    "# 모델 로드\n",
    "- 학습 과정을 생략하고 바로 결과물을 생성해야 할 때 기 생성된 generator 객체를 로드하기 위한 작업\n",
    "- 위 모델 저장 과정에서 생성된 pkl 파일만 사용 가능"
   ]
  },
  {
   "cell_type": "code",
   "execution_count": 16,
   "metadata": {
    "id": "Iiam0aDUP_xR"
   },
   "outputs": [
    {
     "ename": "FileNotFoundError",
     "evalue": "[Errno 2] No such file or directory: 'generator.pkl'",
     "output_type": "error",
     "traceback": [
      "\u001b[0;31m---------------------------------------------------------------------------\u001b[0m",
      "\u001b[0;31mFileNotFoundError\u001b[0m                         Traceback (most recent call last)",
      "\u001b[0;32m/tmp/ipykernel_29027/1380924874.py\u001b[0m in \u001b[0;36m<module>\u001b[0;34m\u001b[0m\n\u001b[0;32m----> 1\u001b[0;31m \u001b[0;32mwith\u001b[0m \u001b[0mopen\u001b[0m\u001b[0;34m(\u001b[0m\u001b[0;34m'generator.pkl'\u001b[0m\u001b[0;34m,\u001b[0m \u001b[0;34m'rb'\u001b[0m\u001b[0;34m)\u001b[0m \u001b[0;32mas\u001b[0m \u001b[0mf\u001b[0m\u001b[0;34m:\u001b[0m\u001b[0;34m\u001b[0m\u001b[0;34m\u001b[0m\u001b[0m\n\u001b[0m\u001b[1;32m      2\u001b[0m     \u001b[0mgenerator\u001b[0m \u001b[0;34m=\u001b[0m \u001b[0mpickle\u001b[0m\u001b[0;34m.\u001b[0m\u001b[0mload\u001b[0m\u001b[0;34m(\u001b[0m\u001b[0mf\u001b[0m\u001b[0;34m)\u001b[0m\u001b[0;34m\u001b[0m\u001b[0;34m\u001b[0m\u001b[0m\n",
      "\u001b[0;31mFileNotFoundError\u001b[0m: [Errno 2] No such file or directory: 'generator.pkl'"
     ]
    }
   ],
   "source": [
    "with open('generator.pkl', 'rb') as f:\n",
    "    generator = pickle.load(f)"
   ]
  },
  {
   "cell_type": "code",
   "execution_count": null,
   "metadata": {
    "id": "ps0I-hqIJR9u"
   },
   "outputs": [],
   "source": []
  }
 ],
 "metadata": {
  "accelerator": "GPU",
  "colab": {
   "background_execution": "on",
   "collapsed_sections": [],
   "machine_shape": "hm",
   "name": "모베차토르벤트_베이스라인V3.ipynb의 사본의 사본",
   "provenance": [
    {
     "file_id": "1CZkd0wC-KaxF6dG1_sr6Wr_KTdXrUTqr",
     "timestamp": 1646653182373
    },
    {
     "file_id": "1gHGsuA7OcbPQX3pCPiJq6tpjR3qnwr4Q",
     "timestamp": 1646645814235
    }
   ]
  },
  "kernelspec": {
   "display_name": "Python 3",
   "language": "python",
   "name": "python3"
  },
  "language_info": {
   "codemirror_mode": {
    "name": "ipython",
    "version": 3
   },
   "file_extension": ".py",
   "mimetype": "text/x-python",
   "name": "python",
   "nbconvert_exporter": "python",
   "pygments_lexer": "ipython3",
   "version": "3.7.12"
  }
 },
 "nbformat": 4,
 "nbformat_minor": 1
}
